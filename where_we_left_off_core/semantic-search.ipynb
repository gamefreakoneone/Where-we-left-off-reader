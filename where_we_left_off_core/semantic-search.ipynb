{
 "cells": [
  {
   "cell_type": "code",
   "execution_count": 1,
   "id": "179c1f93",
   "metadata": {},
   "outputs": [],
   "source": [
    "from langchain_community.document_loaders import PyPDFLoader\n",
    "from langchain_text_splitters import RecursiveCharacterTextSplitter\n",
    "from langchain_core.vectorstores import InMemoryVectorStore\n",
    "import getpass\n",
    "import os"
   ]
  },
  {
   "cell_type": "code",
   "execution_count": 2,
   "id": "6899fa79",
   "metadata": {},
   "outputs": [
    {
     "name": "stdout",
     "output_type": "stream",
     "text": [
      "56\n"
     ]
    }
   ],
   "source": [
    "file_path = r\"C:\\Users\\abiju\\Desktop\\Project-Velcro\\REference_textbook\\Chocolate.pdf\"\n",
    "loader = PyPDFLoader(file_path)\n",
    "\n",
    "docs = loader.load()\n",
    "\n",
    "print(len(docs))"
   ]
  },
  {
   "cell_type": "code",
   "execution_count": 3,
   "id": "0321e0d6",
   "metadata": {},
   "outputs": [
    {
     "data": {
      "text/plain": [
       "245"
      ]
     },
     "execution_count": 3,
     "metadata": {},
     "output_type": "execute_result"
    }
   ],
   "source": [
    "text_splitter = RecursiveCharacterTextSplitter(\n",
    "    chunk_size=1000, chunk_overlap=200, add_start_index=True\n",
    ")\n",
    "all_splits = text_splitter.split_documents(docs)\n",
    "\n",
    "len(all_splits)"
   ]
  },
  {
   "cell_type": "code",
   "execution_count": 4,
   "id": "51b0b0f9",
   "metadata": {},
   "outputs": [],
   "source": [
    "if not os.environ.get(\"OPENAI_API_KEY\"):\n",
    "  os.environ[\"OPENAI_API_KEY\"] = getpass.getpass(\"Enter API key for OpenAI: \")\n",
    "\n",
    "from langchain_openai import OpenAIEmbeddings\n",
    "\n",
    "embeddings = OpenAIEmbeddings(model=\"text-embedding-3-small\")"
   ]
  },
  {
   "cell_type": "code",
   "execution_count": 5,
   "id": "e61d9eab",
   "metadata": {},
   "outputs": [],
   "source": [
    "vector_store = InMemoryVectorStore(embeddings)"
   ]
  },
  {
   "cell_type": "code",
   "execution_count": 6,
   "id": "b6228b43",
   "metadata": {},
   "outputs": [],
   "source": [
    "ids = vector_store.add_documents(documents=all_splits)"
   ]
  },
  {
   "cell_type": "code",
   "execution_count": 7,
   "id": "b02f5955",
   "metadata": {},
   "outputs": [
    {
     "name": "stdout",
     "output_type": "stream",
     "text": [
      "0\n",
      "page_content='I'm so sorry. Good-bye, Mrs Gloop! And Mr Gloop! Good-bye! I'll see you later . . .' \n",
      "  As Mr and Mrs Gloop and their tiny escort  hurried away, the five Oompa-Loompas on the \n",
      "far side of the river suddenly began hopping and dancing about and beating wildly upon a \n",
      "number of very small drums. 'Augustus Gloop!' they chanted. 'Augustus Gloop! Augustus Gloop! \n",
      "Augustus Gloop!' \n",
      "'Grandpa!' cried Charlie. 'Listen to them, Grandpa! What are they doing?' \n",
      "  'Ssshh!' whispered Grandpa Joe. 'I th ink they're going to sing us a song!' \n",
      "  \n",
      "'Augustus Gloop!' chanted the Oompa-Loompas. \n",
      "'Augustus Gloop! Augustus Gloop! \n",
      "The great big greedy nincompoop! \n",
      "How long could we allow this beast \n",
      "To gorge and guzzle, feed and feast \n",
      "On everything he wanted to? \n",
      "Great Scott! It simply wouldn't do! \n",
      "However long this pig might live, \n",
      "We're positive he'd never give \n",
      "Even the smallest bit of fun \n",
      "Or happiness to anyone. \n",
      "So what we do in cases such \n",
      "As this, we use the gentle touch,' metadata={'producer': 'Acrobat Distiller 7.0 (Windows)', 'creator': 'Acrobat PDFMaker 7.0 for Word', 'creationdate': '2006-08-18T20:56:05-07:00', 'author': 'Aung Myo Min', 'moddate': '2006-08-18T20:56:18-07:00', 'company': 'MediaTech', 'sourcemodified': 'D:20060819035535', 'title': 'There are five children in this book:   AUGUSTUS GLOOP A greedy boy   VERUCA SALT A girl who is spoiled by her parents   VIOLET BEAUREGARDE A girl who chews gum all day long   MIKE TEAVEE A boy who does nothing but watch television   and   CHARLIE BUCKET', 'source': 'C:\\\\Users\\\\abiju\\\\Desktop\\\\Project-Velcro\\\\REference_textbook\\\\Chocolate.pdf', 'total_pages': 56, 'page': 28, 'page_label': '29', 'start_index': 0}\n",
      "*******************************************************************\n",
      "1\n",
      "page_content='the oars were being pulled by masses of Oompa-Loompas — at least ten of them to each oar. \n",
      "  'This is my private yacht!' cried Mr Wo nka, beaming with pleasure. 'I made her by \n",
      "hollowing out an enormous boiled sweet! Isn't sh e beautiful! See how she comes cutting through \n",
      "the river!' \n",
      "  The gleaming pink boiled-sweet boat glid ed up to the riverbank. One hundred Oompa-\n",
      "Loompas rested on their oars and stared up at the visitors. Then suddenly, for some reason best \n",
      "known to themselves, they all burst into shrieks of laughter. \n",
      "  'What's so funny?' asked Violet Beauregarde. \n",
      "  'Oh, don't worry about them!' cried Mr Wonka. 'They're always laughing! They think \n",
      "everything's a colossal joke! Jump into the boat, all of you! Come on! Hurry up!' \n",
      "  As soon as everyone was safely in, the Oompa-Loompas pushed the boat away from the \n",
      "bank and began to row swiftly downriver. \n",
      "  'Hey, there! Mike Teavee!' shouted Mr Wo nka. 'Please do not lick the boat with your' metadata={'producer': 'Acrobat Distiller 7.0 (Windows)', 'creator': 'Acrobat PDFMaker 7.0 for Word', 'creationdate': '2006-08-18T20:56:05-07:00', 'author': 'Aung Myo Min', 'moddate': '2006-08-18T20:56:18-07:00', 'company': 'MediaTech', 'sourcemodified': 'D:20060819035535', 'title': 'There are five children in this book:   AUGUSTUS GLOOP A greedy boy   VERUCA SALT A girl who is spoiled by her parents   VIOLET BEAUREGARDE A girl who chews gum all day long   MIKE TEAVEE A boy who does nothing but watch television   and   CHARLIE BUCKET', 'source': 'C:\\\\Users\\\\abiju\\\\Desktop\\\\Project-Velcro\\\\REference_textbook\\\\Chocolate.pdf', 'total_pages': 56, 'page': 29, 'page_label': '30', 'start_index': 1523}\n",
      "*******************************************************************\n",
      "2\n",
      "page_content='and Grandpa Joe, stood absolutely still and watched them go. \n",
      "'Listen!' whispered Charlie. 'Listen, Grandpa!  The Oompa-Loompas in the boat outside are \n",
      "starting to sing!' \n",
      "  The voices, one hundred of them singing to gether, came loud and clear into the room: \n",
      "  \n",
      "'Dear friends, we surely all agree \n",
      "There's almost nothing worse to see \n",
      "Than some repulsive little bum \n",
      "Who's always chewing chewing-gum. \n",
      "(It's very near as bad as those' metadata={'producer': 'Acrobat Distiller 7.0 (Windows)', 'creator': 'Acrobat PDFMaker 7.0 for Word', 'creationdate': '2006-08-18T20:56:05-07:00', 'author': 'Aung Myo Min', 'moddate': '2006-08-18T20:56:18-07:00', 'company': 'MediaTech', 'sourcemodified': 'D:20060819035535', 'title': 'There are five children in this book:   AUGUSTUS GLOOP A greedy boy   VERUCA SALT A girl who is spoiled by her parents   VIOLET BEAUREGARDE A girl who chews gum all day long   MIKE TEAVEE A boy who does nothing but watch television   and   CHARLIE BUCKET', 'source': 'C:\\\\Users\\\\abiju\\\\Desktop\\\\Project-Velcro\\\\REference_textbook\\\\Chocolate.pdf', 'total_pages': 56, 'page': 35, 'page_label': '36', 'start_index': 3083}\n",
      "*******************************************************************\n",
      "3\n",
      "page_content='chocolate-coated Gloop! No one would buy it.' \n",
      "  'They most certainly would! ' cried Mr Gloop indignantly. \n",
      "  'I don't want to think about it!' shrieked Mrs Gloop. \n",
      "  'Nor do I,' said Mr Wonka. 'And I do pr omise you, madam, that your darling boy is \n",
      "perfectly safe.' \n",
      "  'If he's perfectly safe, then where is he?' snapped Mrs Gloop. 'Lead me to him this instant!' \n",
      "  Mr Wonka turned around and clicked his fing ers sharply, click, click, click, three times. \n",
      "Immediately, an Oompa-Loompa appeared, as if from nowhere, and stood beside him. \n",
      "  The Oompa-Loompa bowed and smiled, showin g beautiful white teeth.  His skin was rosy-\n",
      "white, his long hair was golden-brown, and the top of his head came just above the height of Mr \n",
      "Wonka's knee. He wore the usual deerskin slung over his shoulder. \n",
      "  'Now listen to me!' said Mr Wonka, looking do wn at the tiny man. 'I want you to take Mr \n",
      "and Mrs Gloop up to the Fudge Room and help them to find their son, Augustus. He's just gone \n",
      "up the pipe.'' metadata={'producer': 'Acrobat Distiller 7.0 (Windows)', 'creator': 'Acrobat PDFMaker 7.0 for Word', 'creationdate': '2006-08-18T20:56:05-07:00', 'author': 'Aung Myo Min', 'moddate': '2006-08-18T20:56:18-07:00', 'company': 'MediaTech', 'sourcemodified': 'D:20060819035535', 'title': 'There are five children in this book:   AUGUSTUS GLOOP A greedy boy   VERUCA SALT A girl who is spoiled by her parents   VIOLET BEAUREGARDE A girl who chews gum all day long   MIKE TEAVEE A boy who does nothing but watch television   and   CHARLIE BUCKET', 'source': 'C:\\\\Users\\\\abiju\\\\Desktop\\\\Project-Velcro\\\\REference_textbook\\\\Chocolate.pdf', 'total_pages': 56, 'page': 27, 'page_label': '28', 'start_index': 1577}\n",
      "*******************************************************************\n"
     ]
    }
   ],
   "source": [
    "results = vector_store.similarity_search(\n",
    "    \"What did the Oompa Loompas sing when Gloop fell into the river?\"\n",
    ")\n",
    "\n",
    "i =0\n",
    "for r in results:\n",
    "    print(i)\n",
    "    i+=1\n",
    "    print(r)\n",
    "    print(\"*******************************************************************\")"
   ]
  },
  {
   "cell_type": "code",
   "execution_count": 18,
   "id": "43460be3",
   "metadata": {},
   "outputs": [
    {
     "name": "stdout",
     "output_type": "stream",
     "text": [
      "Requirement already satisfied: spacy in c:\\users\\abiju\\appdata\\local\\anaconda3\\envs\\lc-academy-env\\lib\\site-packages (3.8.7)\n",
      "Requirement already satisfied: spacy-legacy<3.1.0,>=3.0.11 in c:\\users\\abiju\\appdata\\local\\anaconda3\\envs\\lc-academy-env\\lib\\site-packages (from spacy) (3.0.12)\n",
      "Requirement already satisfied: spacy-loggers<2.0.0,>=1.0.0 in c:\\users\\abiju\\appdata\\local\\anaconda3\\envs\\lc-academy-env\\lib\\site-packages (from spacy) (1.0.5)\n",
      "Requirement already satisfied: murmurhash<1.1.0,>=0.28.0 in c:\\users\\abiju\\appdata\\local\\anaconda3\\envs\\lc-academy-env\\lib\\site-packages (from spacy) (1.0.13)\n",
      "Requirement already satisfied: cymem<2.1.0,>=2.0.2 in c:\\users\\abiju\\appdata\\local\\anaconda3\\envs\\lc-academy-env\\lib\\site-packages (from spacy) (2.0.11)\n",
      "Requirement already satisfied: preshed<3.1.0,>=3.0.2 in c:\\users\\abiju\\appdata\\local\\anaconda3\\envs\\lc-academy-env\\lib\\site-packages (from spacy) (3.0.10)\n",
      "Requirement already satisfied: thinc<8.4.0,>=8.3.4 in c:\\users\\abiju\\appdata\\local\\anaconda3\\envs\\lc-academy-env\\lib\\site-packages (from spacy) (8.3.6)\n",
      "Requirement already satisfied: wasabi<1.2.0,>=0.9.1 in c:\\users\\abiju\\appdata\\local\\anaconda3\\envs\\lc-academy-env\\lib\\site-packages (from spacy) (1.1.3)\n",
      "Requirement already satisfied: srsly<3.0.0,>=2.4.3 in c:\\users\\abiju\\appdata\\local\\anaconda3\\envs\\lc-academy-env\\lib\\site-packages (from spacy) (2.5.1)\n",
      "Requirement already satisfied: catalogue<2.1.0,>=2.0.6 in c:\\users\\abiju\\appdata\\local\\anaconda3\\envs\\lc-academy-env\\lib\\site-packages (from spacy) (2.0.10)\n",
      "Requirement already satisfied: weasel<0.5.0,>=0.1.0 in c:\\users\\abiju\\appdata\\local\\anaconda3\\envs\\lc-academy-env\\lib\\site-packages (from spacy) (0.4.1)\n",
      "Requirement already satisfied: typer<1.0.0,>=0.3.0 in c:\\users\\abiju\\appdata\\local\\anaconda3\\envs\\lc-academy-env\\lib\\site-packages (from spacy) (0.16.0)\n",
      "Requirement already satisfied: tqdm<5.0.0,>=4.38.0 in c:\\users\\abiju\\appdata\\local\\anaconda3\\envs\\lc-academy-env\\lib\\site-packages (from spacy) (4.67.1)\n",
      "Requirement already satisfied: numpy>=1.19.0 in c:\\users\\abiju\\appdata\\local\\anaconda3\\envs\\lc-academy-env\\lib\\site-packages (from spacy) (2.3.1)\n",
      "Requirement already satisfied: requests<3.0.0,>=2.13.0 in c:\\users\\abiju\\appdata\\local\\anaconda3\\envs\\lc-academy-env\\lib\\site-packages (from spacy) (2.32.4)\n",
      "Requirement already satisfied: pydantic!=1.8,!=1.8.1,<3.0.0,>=1.7.4 in c:\\users\\abiju\\appdata\\local\\anaconda3\\envs\\lc-academy-env\\lib\\site-packages (from spacy) (2.11.7)\n",
      "Requirement already satisfied: jinja2 in c:\\users\\abiju\\appdata\\local\\anaconda3\\envs\\lc-academy-env\\lib\\site-packages (from spacy) (3.1.6)\n",
      "Requirement already satisfied: setuptools in c:\\users\\abiju\\appdata\\local\\anaconda3\\envs\\lc-academy-env\\lib\\site-packages (from spacy) (72.1.0)\n",
      "Requirement already satisfied: packaging>=20.0 in c:\\users\\abiju\\appdata\\local\\anaconda3\\envs\\lc-academy-env\\lib\\site-packages (from spacy) (24.2)\n",
      "Requirement already satisfied: langcodes<4.0.0,>=3.2.0 in c:\\users\\abiju\\appdata\\local\\anaconda3\\envs\\lc-academy-env\\lib\\site-packages (from spacy) (3.4.1)\n",
      "Requirement already satisfied: language-data>=1.2 in c:\\users\\abiju\\appdata\\local\\anaconda3\\envs\\lc-academy-env\\lib\\site-packages (from langcodes<4.0.0,>=3.2.0->spacy) (1.3.0)\n",
      "Requirement already satisfied: annotated-types>=0.6.0 in c:\\users\\abiju\\appdata\\local\\anaconda3\\envs\\lc-academy-env\\lib\\site-packages (from pydantic!=1.8,!=1.8.1,<3.0.0,>=1.7.4->spacy) (0.7.0)\n",
      "Requirement already satisfied: pydantic-core==2.33.2 in c:\\users\\abiju\\appdata\\local\\anaconda3\\envs\\lc-academy-env\\lib\\site-packages (from pydantic!=1.8,!=1.8.1,<3.0.0,>=1.7.4->spacy) (2.33.2)\n",
      "Requirement already satisfied: typing-extensions>=4.12.2 in c:\\users\\abiju\\appdata\\local\\anaconda3\\envs\\lc-academy-env\\lib\\site-packages (from pydantic!=1.8,!=1.8.1,<3.0.0,>=1.7.4->spacy) (4.14.0)\n",
      "Requirement already satisfied: typing-inspection>=0.4.0 in c:\\users\\abiju\\appdata\\local\\anaconda3\\envs\\lc-academy-env\\lib\\site-packages (from pydantic!=1.8,!=1.8.1,<3.0.0,>=1.7.4->spacy) (0.4.1)\n",
      "Requirement already satisfied: charset_normalizer<4,>=2 in c:\\users\\abiju\\appdata\\local\\anaconda3\\envs\\lc-academy-env\\lib\\site-packages (from requests<3.0.0,>=2.13.0->spacy) (3.4.2)\n",
      "Requirement already satisfied: idna<4,>=2.5 in c:\\users\\abiju\\appdata\\local\\anaconda3\\envs\\lc-academy-env\\lib\\site-packages (from requests<3.0.0,>=2.13.0->spacy) (3.10)\n",
      "Requirement already satisfied: urllib3<3,>=1.21.1 in c:\\users\\abiju\\appdata\\local\\anaconda3\\envs\\lc-academy-env\\lib\\site-packages (from requests<3.0.0,>=2.13.0->spacy) (2.5.0)\n",
      "Requirement already satisfied: certifi>=2017.4.17 in c:\\users\\abiju\\appdata\\local\\anaconda3\\envs\\lc-academy-env\\lib\\site-packages (from requests<3.0.0,>=2.13.0->spacy) (2025.6.15)\n",
      "Requirement already satisfied: cloudpickle>=2.2.0 in c:\\users\\abiju\\appdata\\local\\anaconda3\\envs\\lc-academy-env\\lib\\site-packages (from srsly<3.0.0,>=2.4.3->spacy) (3.1.1)\n",
      "Requirement already satisfied: ujson>=1.35 in c:\\users\\abiju\\appdata\\local\\anaconda3\\envs\\lc-academy-env\\lib\\site-packages (from srsly<3.0.0,>=2.4.3->spacy) (5.11.0)\n",
      "Requirement already satisfied: blis<1.4.0,>=1.3.0 in c:\\users\\abiju\\appdata\\local\\anaconda3\\envs\\lc-academy-env\\lib\\site-packages (from thinc<8.4.0,>=8.3.4->spacy) (1.3.0)\n",
      "Requirement already satisfied: confection<1.0.0,>=0.0.1 in c:\\users\\abiju\\appdata\\local\\anaconda3\\envs\\lc-academy-env\\lib\\site-packages (from thinc<8.4.0,>=8.3.4->spacy) (0.1.5)\n",
      "Requirement already satisfied: colorama in c:\\users\\abiju\\appdata\\local\\anaconda3\\envs\\lc-academy-env\\lib\\site-packages (from tqdm<5.0.0,>=4.38.0->spacy) (0.4.6)\n",
      "Requirement already satisfied: click>=8.0.0 in c:\\users\\abiju\\appdata\\local\\anaconda3\\envs\\lc-academy-env\\lib\\site-packages (from typer<1.0.0,>=0.3.0->spacy) (8.2.1)\n",
      "Requirement already satisfied: shellingham>=1.3.0 in c:\\users\\abiju\\appdata\\local\\anaconda3\\envs\\lc-academy-env\\lib\\site-packages (from typer<1.0.0,>=0.3.0->spacy) (1.5.4)\n",
      "Requirement already satisfied: rich>=10.11.0 in c:\\users\\abiju\\appdata\\local\\anaconda3\\envs\\lc-academy-env\\lib\\site-packages (from typer<1.0.0,>=0.3.0->spacy) (14.1.0)\n",
      "Requirement already satisfied: cloudpathlib<1.0.0,>=0.7.0 in c:\\users\\abiju\\appdata\\local\\anaconda3\\envs\\lc-academy-env\\lib\\site-packages (from weasel<0.5.0,>=0.1.0->spacy) (0.22.0)\n",
      "Requirement already satisfied: smart-open<8.0.0,>=5.2.1 in c:\\users\\abiju\\appdata\\local\\anaconda3\\envs\\lc-academy-env\\lib\\site-packages (from weasel<0.5.0,>=0.1.0->spacy) (7.3.0.post1)\n",
      "Requirement already satisfied: wrapt in c:\\users\\abiju\\appdata\\local\\anaconda3\\envs\\lc-academy-env\\lib\\site-packages (from smart-open<8.0.0,>=5.2.1->weasel<0.5.0,>=0.1.0->spacy) (1.17.3)\n",
      "Requirement already satisfied: marisa-trie>=1.1.0 in c:\\users\\abiju\\appdata\\local\\anaconda3\\envs\\lc-academy-env\\lib\\site-packages (from language-data>=1.2->langcodes<4.0.0,>=3.2.0->spacy) (1.2.1)\n",
      "Requirement already satisfied: markdown-it-py>=2.2.0 in c:\\users\\abiju\\appdata\\local\\anaconda3\\envs\\lc-academy-env\\lib\\site-packages (from rich>=10.11.0->typer<1.0.0,>=0.3.0->spacy) (3.0.0)\n",
      "Requirement already satisfied: pygments<3.0.0,>=2.13.0 in c:\\users\\abiju\\appdata\\local\\anaconda3\\envs\\lc-academy-env\\lib\\site-packages (from rich>=10.11.0->typer<1.0.0,>=0.3.0->spacy) (2.19.2)\n",
      "Requirement already satisfied: mdurl~=0.1 in c:\\users\\abiju\\appdata\\local\\anaconda3\\envs\\lc-academy-env\\lib\\site-packages (from markdown-it-py>=2.2.0->rich>=10.11.0->typer<1.0.0,>=0.3.0->spacy) (0.1.2)\n",
      "Requirement already satisfied: MarkupSafe>=2.0 in c:\\users\\abiju\\appdata\\local\\anaconda3\\envs\\lc-academy-env\\lib\\site-packages (from jinja2->spacy) (3.0.2)\n",
      "Requirement already satisfied: nltk in c:\\users\\abiju\\appdata\\local\\anaconda3\\envs\\lc-academy-env\\lib\\site-packages (3.9.1)\n",
      "Requirement already satisfied: click in c:\\users\\abiju\\appdata\\local\\anaconda3\\envs\\lc-academy-env\\lib\\site-packages (from nltk) (8.2.1)\n",
      "Requirement already satisfied: joblib in c:\\users\\abiju\\appdata\\local\\anaconda3\\envs\\lc-academy-env\\lib\\site-packages (from nltk) (1.5.2)\n",
      "Requirement already satisfied: regex>=2021.8.3 in c:\\users\\abiju\\appdata\\local\\anaconda3\\envs\\lc-academy-env\\lib\\site-packages (from nltk) (2024.11.6)\n",
      "Requirement already satisfied: tqdm in c:\\users\\abiju\\appdata\\local\\anaconda3\\envs\\lc-academy-env\\lib\\site-packages (from nltk) (4.67.1)\n",
      "Requirement already satisfied: colorama in c:\\users\\abiju\\appdata\\local\\anaconda3\\envs\\lc-academy-env\\lib\\site-packages (from click->nltk) (0.4.6)\n",
      "Collecting en-core-web-sm==3.8.0\n",
      "  Downloading https://github.com/explosion/spacy-models/releases/download/en_core_web_sm-3.8.0/en_core_web_sm-3.8.0-py3-none-any.whl (12.8 MB)\n",
      "     ---------------------------------------- 0.0/12.8 MB ? eta -:--:--\n",
      "     --------------------------- ------------ 8.9/12.8 MB 55.1 MB/s eta 0:00:01\n",
      "     --------------------------------------  12.6/12.8 MB 60.4 MB/s eta 0:00:01\n",
      "     ---------------------------------------- 12.8/12.8 MB 30.8 MB/s  0:00:00\n",
      "\u001b[38;5;2m✔ Download and installation successful\u001b[0m\n",
      "You can now load the package via spacy.load('en_core_web_sm')\n"
     ]
    }
   ],
   "source": [
    "!pip install spacy \n",
    "!pip install nltk \n",
    "!python -m spacy download en_core_web_sm"
   ]
  },
  {
   "cell_type": "code",
   "execution_count": 19,
   "id": "68753771",
   "metadata": {},
   "outputs": [
    {
     "ename": "ImportError",
     "evalue": "\n\nIMPORTANT: PLEASE READ THIS FOR ADVICE ON HOW TO SOLVE THIS ISSUE!\n\nImporting the numpy C-extensions failed. This error can happen for\nmany reasons, often due to issues with your setup or how NumPy was\ninstalled.\n\nWe have compiled some common reasons and troubleshooting tips at:\n\n    https://numpy.org/devdocs/user/troubleshooting-importerror.html\n\nPlease note and check the following:\n\n  * The Python version is: Python3.11 from \"c:\\Users\\abiju\\AppData\\Local\\anaconda3\\envs\\lc-academy-env\\python.exe\"\n  * The NumPy version is: \"1.26.4\"\n\nand make sure that they are the versions you expect.\nPlease carefully study the documentation linked above for further help.\n\nOriginal error was: DLL load failed while importing _multiarray_umath: The specified module could not be found.\n",
     "output_type": "error",
     "traceback": [
      "\u001b[31m---------------------------------------------------------------------------\u001b[39m",
      "\u001b[31mImportError\u001b[39m                               Traceback (most recent call last)",
      "\u001b[36mFile \u001b[39m\u001b[32mc:\\Users\\abiju\\AppData\\Local\\anaconda3\\envs\\lc-academy-env\\Lib\\site-packages\\numpy\\_core\\__init__.py:22\u001b[39m\n\u001b[32m     21\u001b[39m \u001b[38;5;28;01mtry\u001b[39;00m:\n\u001b[32m---> \u001b[39m\u001b[32m22\u001b[39m     \u001b[38;5;28;01mfrom\u001b[39;00m\u001b[38;5;250m \u001b[39m\u001b[34;01m.\u001b[39;00m\u001b[38;5;250m \u001b[39m\u001b[38;5;28;01mimport\u001b[39;00m multiarray\n\u001b[32m     23\u001b[39m \u001b[38;5;28;01mexcept\u001b[39;00m \u001b[38;5;167;01mImportError\u001b[39;00m \u001b[38;5;28;01mas\u001b[39;00m exc:\n",
      "\u001b[36mFile \u001b[39m\u001b[32mc:\\Users\\abiju\\AppData\\Local\\anaconda3\\envs\\lc-academy-env\\Lib\\site-packages\\numpy\\_core\\multiarray.py:11\u001b[39m\n\u001b[32m      9\u001b[39m \u001b[38;5;28;01mimport\u001b[39;00m\u001b[38;5;250m \u001b[39m\u001b[34;01mfunctools\u001b[39;00m\n\u001b[32m---> \u001b[39m\u001b[32m11\u001b[39m \u001b[38;5;28;01mfrom\u001b[39;00m\u001b[38;5;250m \u001b[39m\u001b[34;01m.\u001b[39;00m\u001b[38;5;250m \u001b[39m\u001b[38;5;28;01mimport\u001b[39;00m _multiarray_umath, overrides\n\u001b[32m     12\u001b[39m \u001b[38;5;28;01mfrom\u001b[39;00m\u001b[38;5;250m \u001b[39m\u001b[34;01m.\u001b[39;00m\u001b[34;01m_multiarray_umath\u001b[39;00m\u001b[38;5;250m \u001b[39m\u001b[38;5;28;01mimport\u001b[39;00m *  \u001b[38;5;66;03m# noqa: F403\u001b[39;00m\n",
      "\u001b[31mImportError\u001b[39m: DLL load failed while importing _multiarray_umath: The specified module could not be found.",
      "\nThe above exception was the direct cause of the following exception:\n",
      "\u001b[31mImportError\u001b[39m                               Traceback (most recent call last)",
      "\u001b[36mFile \u001b[39m\u001b[32mc:\\Users\\abiju\\AppData\\Local\\anaconda3\\envs\\lc-academy-env\\Lib\\site-packages\\numpy\\_core\\__init__.py:48\u001b[39m\n\u001b[32m     24\u001b[39m     \u001b[38;5;28;01mimport\u001b[39;00m\u001b[38;5;250m \u001b[39m\u001b[34;01msys\u001b[39;00m\n\u001b[32m     25\u001b[39m     msg = \u001b[33m\"\"\"\u001b[39m\n\u001b[32m     26\u001b[39m \n\u001b[32m     27\u001b[39m \u001b[33mIMPORTANT: PLEASE READ THIS FOR ADVICE ON HOW TO SOLVE THIS ISSUE!\u001b[39m\n\u001b[32m   (...)\u001b[39m\u001b[32m     46\u001b[39m \u001b[33m\"\"\"\u001b[39m % (sys.version_info[\u001b[32m0\u001b[39m], sys.version_info[\u001b[32m1\u001b[39m], sys.executable,\n\u001b[32m     47\u001b[39m         __version__, exc)\n\u001b[32m---> \u001b[39m\u001b[32m48\u001b[39m     \u001b[38;5;28;01mraise\u001b[39;00m \u001b[38;5;167;01mImportError\u001b[39;00m(msg) \u001b[38;5;28;01mfrom\u001b[39;00m\u001b[38;5;250m \u001b[39m\u001b[34;01mexc\u001b[39;00m\n\u001b[32m     49\u001b[39m \u001b[38;5;28;01mfinally\u001b[39;00m:\n\u001b[32m     50\u001b[39m     \u001b[38;5;28;01mfor\u001b[39;00m envkey \u001b[38;5;129;01min\u001b[39;00m env_added:\n",
      "\u001b[31mImportError\u001b[39m: \n\nIMPORTANT: PLEASE READ THIS FOR ADVICE ON HOW TO SOLVE THIS ISSUE!\n\nImporting the numpy C-extensions failed. This error can happen for\nmany reasons, often due to issues with your setup or how NumPy was\ninstalled.\n\nWe have compiled some common reasons and troubleshooting tips at:\n\n    https://numpy.org/devdocs/user/troubleshooting-importerror.html\n\nPlease note and check the following:\n\n  * The Python version is: Python3.11 from \"c:\\Users\\abiju\\AppData\\Local\\anaconda3\\envs\\lc-academy-env\\python.exe\"\n  * The NumPy version is: \"1.26.4\"\n\nand make sure that they are the versions you expect.\nPlease carefully study the documentation linked above for further help.\n\nOriginal error was: DLL load failed while importing _multiarray_umath: The specified module could not be found.\n"
     ]
    },
    {
     "ename": "ImportError",
     "evalue": "numpy._core.multiarray failed to import",
     "output_type": "error",
     "traceback": [
      "\u001b[31m---------------------------------------------------------------------------\u001b[39m",
      "\u001b[31mImportError\u001b[39m                               Traceback (most recent call last)",
      "\u001b[36mCell\u001b[39m\u001b[36m \u001b[39m\u001b[32mIn[19]\u001b[39m\u001b[32m, line 1\u001b[39m\n\u001b[32m----> \u001b[39m\u001b[32m1\u001b[39m \u001b[38;5;28;01mimport\u001b[39;00m\u001b[38;5;250m \u001b[39m\u001b[34;01mpandas\u001b[39;00m\u001b[38;5;250m \u001b[39m\u001b[38;5;28;01mas\u001b[39;00m\u001b[38;5;250m \u001b[39m\u001b[34;01mpd\u001b[39;00m \n\u001b[32m      2\u001b[39m \u001b[38;5;28;01mimport\u001b[39;00m\u001b[38;5;250m \u001b[39m\u001b[34;01mspacy\u001b[39;00m \n\u001b[32m      3\u001b[39m \u001b[38;5;28;01mimport\u001b[39;00m\u001b[38;5;250m \u001b[39m\u001b[34;01mrequests\u001b[39;00m \n",
      "\u001b[36mFile \u001b[39m\u001b[32mc:\\Users\\abiju\\AppData\\Local\\anaconda3\\envs\\lc-academy-env\\Lib\\site-packages\\pandas\\__init__.py:49\u001b[39m\n\u001b[32m     46\u001b[39m \u001b[38;5;66;03m# let init-time option registration happen\u001b[39;00m\n\u001b[32m     47\u001b[39m \u001b[38;5;28;01mimport\u001b[39;00m\u001b[38;5;250m \u001b[39m\u001b[34;01mpandas\u001b[39;00m\u001b[34;01m.\u001b[39;00m\u001b[34;01mcore\u001b[39;00m\u001b[34;01m.\u001b[39;00m\u001b[34;01mconfig_init\u001b[39;00m  \u001b[38;5;66;03m# pyright: ignore[reportUnusedImport] # noqa: F401\u001b[39;00m\n\u001b[32m---> \u001b[39m\u001b[32m49\u001b[39m \u001b[38;5;28;01mfrom\u001b[39;00m\u001b[38;5;250m \u001b[39m\u001b[34;01mpandas\u001b[39;00m\u001b[34;01m.\u001b[39;00m\u001b[34;01mcore\u001b[39;00m\u001b[34;01m.\u001b[39;00m\u001b[34;01mapi\u001b[39;00m\u001b[38;5;250m \u001b[39m\u001b[38;5;28;01mimport\u001b[39;00m (\n\u001b[32m     50\u001b[39m     \u001b[38;5;66;03m# dtype\u001b[39;00m\n\u001b[32m     51\u001b[39m     ArrowDtype,\n\u001b[32m     52\u001b[39m     Int8Dtype,\n\u001b[32m     53\u001b[39m     Int16Dtype,\n\u001b[32m     54\u001b[39m     Int32Dtype,\n\u001b[32m     55\u001b[39m     Int64Dtype,\n\u001b[32m     56\u001b[39m     UInt8Dtype,\n\u001b[32m     57\u001b[39m     UInt16Dtype,\n\u001b[32m     58\u001b[39m     UInt32Dtype,\n\u001b[32m     59\u001b[39m     UInt64Dtype,\n\u001b[32m     60\u001b[39m     Float32Dtype,\n\u001b[32m     61\u001b[39m     Float64Dtype,\n\u001b[32m     62\u001b[39m     CategoricalDtype,\n\u001b[32m     63\u001b[39m     PeriodDtype,\n\u001b[32m     64\u001b[39m     IntervalDtype,\n\u001b[32m     65\u001b[39m     DatetimeTZDtype,\n\u001b[32m     66\u001b[39m     StringDtype,\n\u001b[32m     67\u001b[39m     BooleanDtype,\n\u001b[32m     68\u001b[39m     \u001b[38;5;66;03m# missing\u001b[39;00m\n\u001b[32m     69\u001b[39m     NA,\n\u001b[32m     70\u001b[39m     isna,\n\u001b[32m     71\u001b[39m     isnull,\n\u001b[32m     72\u001b[39m     notna,\n\u001b[32m     73\u001b[39m     notnull,\n\u001b[32m     74\u001b[39m     \u001b[38;5;66;03m# indexes\u001b[39;00m\n\u001b[32m     75\u001b[39m     Index,\n\u001b[32m     76\u001b[39m     CategoricalIndex,\n\u001b[32m     77\u001b[39m     RangeIndex,\n\u001b[32m     78\u001b[39m     MultiIndex,\n\u001b[32m     79\u001b[39m     IntervalIndex,\n\u001b[32m     80\u001b[39m     TimedeltaIndex,\n\u001b[32m     81\u001b[39m     DatetimeIndex,\n\u001b[32m     82\u001b[39m     PeriodIndex,\n\u001b[32m     83\u001b[39m     IndexSlice,\n\u001b[32m     84\u001b[39m     \u001b[38;5;66;03m# tseries\u001b[39;00m\n\u001b[32m     85\u001b[39m     NaT,\n\u001b[32m     86\u001b[39m     Period,\n\u001b[32m     87\u001b[39m     period_range,\n\u001b[32m     88\u001b[39m     Timedelta,\n\u001b[32m     89\u001b[39m     timedelta_range,\n\u001b[32m     90\u001b[39m     Timestamp,\n\u001b[32m     91\u001b[39m     date_range,\n\u001b[32m     92\u001b[39m     bdate_range,\n\u001b[32m     93\u001b[39m     Interval,\n\u001b[32m     94\u001b[39m     interval_range,\n\u001b[32m     95\u001b[39m     DateOffset,\n\u001b[32m     96\u001b[39m     \u001b[38;5;66;03m# conversion\u001b[39;00m\n\u001b[32m     97\u001b[39m     to_numeric,\n\u001b[32m     98\u001b[39m     to_datetime,\n\u001b[32m     99\u001b[39m     to_timedelta,\n\u001b[32m    100\u001b[39m     \u001b[38;5;66;03m# misc\u001b[39;00m\n\u001b[32m    101\u001b[39m     Flags,\n\u001b[32m    102\u001b[39m     Grouper,\n\u001b[32m    103\u001b[39m     factorize,\n\u001b[32m    104\u001b[39m     unique,\n\u001b[32m    105\u001b[39m     value_counts,\n\u001b[32m    106\u001b[39m     NamedAgg,\n\u001b[32m    107\u001b[39m     array,\n\u001b[32m    108\u001b[39m     Categorical,\n\u001b[32m    109\u001b[39m     set_eng_float_format,\n\u001b[32m    110\u001b[39m     Series,\n\u001b[32m    111\u001b[39m     DataFrame,\n\u001b[32m    112\u001b[39m )\n\u001b[32m    114\u001b[39m \u001b[38;5;28;01mfrom\u001b[39;00m\u001b[38;5;250m \u001b[39m\u001b[34;01mpandas\u001b[39;00m\u001b[34;01m.\u001b[39;00m\u001b[34;01mcore\u001b[39;00m\u001b[34;01m.\u001b[39;00m\u001b[34;01mdtypes\u001b[39;00m\u001b[34;01m.\u001b[39;00m\u001b[34;01mdtypes\u001b[39;00m\u001b[38;5;250m \u001b[39m\u001b[38;5;28;01mimport\u001b[39;00m SparseDtype\n\u001b[32m    116\u001b[39m \u001b[38;5;28;01mfrom\u001b[39;00m\u001b[38;5;250m \u001b[39m\u001b[34;01mpandas\u001b[39;00m\u001b[34;01m.\u001b[39;00m\u001b[34;01mtseries\u001b[39;00m\u001b[34;01m.\u001b[39;00m\u001b[34;01mapi\u001b[39;00m\u001b[38;5;250m \u001b[39m\u001b[38;5;28;01mimport\u001b[39;00m infer_freq\n",
      "\u001b[36mFile \u001b[39m\u001b[32mc:\\Users\\abiju\\AppData\\Local\\anaconda3\\envs\\lc-academy-env\\Lib\\site-packages\\pandas\\core\\api.py:1\u001b[39m\n\u001b[32m----> \u001b[39m\u001b[32m1\u001b[39m \u001b[38;5;28;01mfrom\u001b[39;00m\u001b[38;5;250m \u001b[39m\u001b[34;01mpandas\u001b[39;00m\u001b[34;01m.\u001b[39;00m\u001b[34;01m_libs\u001b[39;00m\u001b[38;5;250m \u001b[39m\u001b[38;5;28;01mimport\u001b[39;00m (\n\u001b[32m      2\u001b[39m     NaT,\n\u001b[32m      3\u001b[39m     Period,\n\u001b[32m      4\u001b[39m     Timedelta,\n\u001b[32m      5\u001b[39m     Timestamp,\n\u001b[32m      6\u001b[39m )\n\u001b[32m      7\u001b[39m \u001b[38;5;28;01mfrom\u001b[39;00m\u001b[38;5;250m \u001b[39m\u001b[34;01mpandas\u001b[39;00m\u001b[34;01m.\u001b[39;00m\u001b[34;01m_libs\u001b[39;00m\u001b[34;01m.\u001b[39;00m\u001b[34;01mmissing\u001b[39;00m\u001b[38;5;250m \u001b[39m\u001b[38;5;28;01mimport\u001b[39;00m NA\n\u001b[32m      9\u001b[39m \u001b[38;5;28;01mfrom\u001b[39;00m\u001b[38;5;250m \u001b[39m\u001b[34;01mpandas\u001b[39;00m\u001b[34;01m.\u001b[39;00m\u001b[34;01mcore\u001b[39;00m\u001b[34;01m.\u001b[39;00m\u001b[34;01mdtypes\u001b[39;00m\u001b[34;01m.\u001b[39;00m\u001b[34;01mdtypes\u001b[39;00m\u001b[38;5;250m \u001b[39m\u001b[38;5;28;01mimport\u001b[39;00m (\n\u001b[32m     10\u001b[39m     ArrowDtype,\n\u001b[32m     11\u001b[39m     CategoricalDtype,\n\u001b[32m   (...)\u001b[39m\u001b[32m     14\u001b[39m     PeriodDtype,\n\u001b[32m     15\u001b[39m )\n",
      "\u001b[36mFile \u001b[39m\u001b[32mc:\\Users\\abiju\\AppData\\Local\\anaconda3\\envs\\lc-academy-env\\Lib\\site-packages\\pandas\\_libs\\__init__.py:17\u001b[39m\n\u001b[32m     13\u001b[39m \u001b[38;5;66;03m# Below imports needs to happen first to ensure pandas top level\u001b[39;00m\n\u001b[32m     14\u001b[39m \u001b[38;5;66;03m# module gets monkeypatched with the pandas_datetime_CAPI\u001b[39;00m\n\u001b[32m     15\u001b[39m \u001b[38;5;66;03m# see pandas_datetime_exec in pd_datetime.c\u001b[39;00m\n\u001b[32m     16\u001b[39m \u001b[38;5;28;01mimport\u001b[39;00m\u001b[38;5;250m \u001b[39m\u001b[34;01mpandas\u001b[39;00m\u001b[34;01m.\u001b[39;00m\u001b[34;01m_libs\u001b[39;00m\u001b[34;01m.\u001b[39;00m\u001b[34;01mpandas_parser\u001b[39;00m  \u001b[38;5;66;03m# isort: skip # type: ignore[reportUnusedImport]\u001b[39;00m\n\u001b[32m---> \u001b[39m\u001b[32m17\u001b[39m \u001b[38;5;28;01mimport\u001b[39;00m\u001b[38;5;250m \u001b[39m\u001b[34;01mpandas\u001b[39;00m\u001b[34;01m.\u001b[39;00m\u001b[34;01m_libs\u001b[39;00m\u001b[34;01m.\u001b[39;00m\u001b[34;01mpandas_datetime\u001b[39;00m  \u001b[38;5;66;03m# noqa: F401 # isort: skip # type: ignore[reportUnusedImport]\u001b[39;00m\n\u001b[32m     18\u001b[39m \u001b[38;5;28;01mfrom\u001b[39;00m\u001b[38;5;250m \u001b[39m\u001b[34;01mpandas\u001b[39;00m\u001b[34;01m.\u001b[39;00m\u001b[34;01m_libs\u001b[39;00m\u001b[34;01m.\u001b[39;00m\u001b[34;01minterval\u001b[39;00m\u001b[38;5;250m \u001b[39m\u001b[38;5;28;01mimport\u001b[39;00m Interval\n\u001b[32m     19\u001b[39m \u001b[38;5;28;01mfrom\u001b[39;00m\u001b[38;5;250m \u001b[39m\u001b[34;01mpandas\u001b[39;00m\u001b[34;01m.\u001b[39;00m\u001b[34;01m_libs\u001b[39;00m\u001b[34;01m.\u001b[39;00m\u001b[34;01mtslibs\u001b[39;00m\u001b[38;5;250m \u001b[39m\u001b[38;5;28;01mimport\u001b[39;00m (\n\u001b[32m     20\u001b[39m     NaT,\n\u001b[32m     21\u001b[39m     NaTType,\n\u001b[32m   (...)\u001b[39m\u001b[32m     26\u001b[39m     iNaT,\n\u001b[32m     27\u001b[39m )\n",
      "\u001b[31mImportError\u001b[39m: numpy._core.multiarray failed to import"
     ]
    }
   ],
   "source": [
    "import pandas as pd \n",
    "import spacy \n",
    "import requests \n",
    "from bs4 import BeautifulSoup\n",
    "nlp = spacy.load(\"en_core_web_sm\")\n",
    "pd.set_option(\"display.max_rows\", 200)"
   ]
  },
  {
   "cell_type": "code",
   "execution_count": null,
   "id": "cb574ff8",
   "metadata": {},
   "outputs": [],
   "source": []
  }
 ],
 "metadata": {
  "kernelspec": {
   "display_name": "lc-academy-env",
   "language": "python",
   "name": "python3"
  },
  "language_info": {
   "codemirror_mode": {
    "name": "ipython",
    "version": 3
   },
   "file_extension": ".py",
   "mimetype": "text/x-python",
   "name": "python",
   "nbconvert_exporter": "python",
   "pygments_lexer": "ipython3",
   "version": "3.11.13"
  }
 },
 "nbformat": 4,
 "nbformat_minor": 5
}
